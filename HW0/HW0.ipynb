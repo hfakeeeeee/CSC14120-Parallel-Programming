{
  "cells": [
    {
      "cell_type": "markdown",
      "metadata": {
        "id": "eGBgThS8q8k3"
      },
      "source": [
        "Họ tên: Nguyễn Quốc Huy\n",
        "\n",
        "MSSV: 20127188"
      ]
    },
    {
      "cell_type": "markdown",
      "metadata": {
        "id": "7qdrvDrCrnqz"
      },
      "source": [
        "# HW0: Làm quen với CUDA"
      ]
    },
    {
      "cell_type": "markdown",
      "metadata": {
        "id": "VKXB0wA7yhq9"
      },
      "source": [
        "Với các GPU tương đối mới thì để biên dịch chỉ cần dùng câu lệnh: \\\n",
        "`nvcc tên-file.cu -o tên-file-chạy`\n",
        "\n",
        "Nhưng trên Colab mình thường lấy được GPU khá cũ là Tesla K80 với compute capability (phiên bản phần cứng) là 3.7; để biên dịch đúng với GPU khá cũ này thì bạn cần dùng câu lệnh: \\\n",
        "`nvcc -arch=sm_37 tên-file.cu -o tên-file-chạy` \\\n",
        "Trong đó, 37 chính là compute capability của GPU Tesla K80.\n",
        "\n",
        "Để phòng trường hợp khi làm bài bạn lấy được GPU có compute capability x.x nhưng khi chấm bài Thầy lại lấy được GPU có compute capability khác x.x, dưới đây mình sẽ có đoạn code Python để tự động lấy 2 con số ứng với compute capability của GPU và lưu vào 2 biến `major` và `minor`:\n"
      ]
    },
    {
      "cell_type": "code",
      "execution_count": null,
      "metadata": {
        "id": "bCkmnirl2xWF"
      },
      "outputs": [],
      "source": [
        "from numba import cuda\n",
        "major, minor = cuda.get_current_device().compute_capability\n",
        "print(f'GPU compute capability: {major}.{minor}')"
      ]
    },
    {
      "cell_type": "markdown",
      "metadata": {
        "id": "Tq1-pmi72yS6"
      },
      "source": [
        "Một khi đã chạy đoạn code Python ở trên, để biên dịch thì bạn sẽ dùng câu lệnh: \\\n",
        "`nvcc -arch=sm_{major}{minor} tên-file.cu -o tên-file-chạy`"
      ]
    },
    {
      "cell_type": "markdown",
      "metadata": {
        "id": "QkZaH7EE-ocN"
      },
      "source": [
        "Dưới đây, khi làm bài thì bạn có thể tùy ý thêm/xóa cell. Đừng xóa mấy cell có chữ của Thầy là được."
      ]
    },
    {
      "cell_type": "markdown",
      "metadata": {
        "id": "DH9lSjFfr3Kw"
      },
      "source": [
        "## Câu 1"
      ]
    },
    {
      "cell_type": "code",
      "execution_count": null,
      "metadata": {},
      "outputs": [],
      "source": [
        "!nvcc HW0_P1.cu"
      ]
    },
    {
      "cell_type": "code",
      "execution_count": null,
      "metadata": {},
      "outputs": [],
      "source": [
        "!./a.out"
      ]
    },
    {
      "cell_type": "markdown",
      "metadata": {},
      "source": [
        "Name: Tesla T4 \n",
        "\n",
        "Compute Capability: 7.5\n",
        "\n",
        "Maximum Number of Block Dimensions: 1024\n",
        "\n",
        "Maximum Number of Grid Dimensions: 2147483647\n",
        "\n",
        "Maximum Size of GPU Memory: 15835398144 bytes\n",
        "\n",
        "Amount of Constant Memory: 65536 bytes\n",
        "\n",
        "Amount of Shared Memory per Block: 49152 bytes\n",
        "\n",
        "Warp Size: 32"
      ]
    },
    {
      "cell_type": "markdown",
      "metadata": {
        "id": "XlycLWxberDO"
      },
      "source": [
        "## Câu 2"
      ]
    },
    {
      "cell_type": "code",
      "execution_count": null,
      "metadata": {
        "id": "gE-rY5TesEFe"
      },
      "outputs": [],
      "source": [
        "!nvcc HW0_P2.cu -o b.out"
      ]
    },
    {
      "cell_type": "code",
      "execution_count": null,
      "metadata": {
        "id": "GG1mOFWW7zlB"
      },
      "outputs": [],
      "source": [
        "!./b.out"
      ]
    },
    {
      "cell_type": "markdown",
      "metadata": {},
      "source": [
        "| Array Size  | Host Time (ms) | Device Time (Version 1) (ms) | Device Time (Version 2) (ms) |\n",
        "|------------|----------------|-----------------------------|-----------------------------|\n",
        "| 64         | 0.001000       | 0.018944                    | 0.013408                    |\n",
        "| 256        | 0.002000       | 0.012288                    | 0.020640                    |\n",
        "| 1024       | 0.004000       | 0.013536                    | 0.013472                    |\n",
        "| 4096       | 0.025000       | 0.012576                    | 0.012000                    |\n",
        "| 16384      | 0.060000       | 0.006784                    | 0.006560                    |\n",
        "| 65536      | 0.240000       | 0.009440                    | 0.010720                    |\n",
        "| 262144     | 1.044000       | 0.018880                    | 0.020416                    |\n",
        "| 1048576    | 3.765000       | 0.049760                    | 0.064832                    |\n",
        "| 4194304    | 15.540000      | 0.197824                    | 0.249824                    |\n",
        "| 16777216   | 61.101997      | 0.775744                    | 0.991264                    |"
      ]
    }
  ],
  "metadata": {
    "accelerator": "GPU",
    "colab": {
      "provenance": []
    },
    "kernelspec": {
      "display_name": "Python 3",
      "name": "python3"
    },
    "language_info": {
      "codemirror_mode": {
        "name": "ipython",
        "version": 3
      },
      "file_extension": ".py",
      "mimetype": "text/x-python",
      "name": "python",
      "nbconvert_exporter": "python",
      "pygments_lexer": "ipython3",
      "version": "3.11.3"
    }
  },
  "nbformat": 4,
  "nbformat_minor": 0
}

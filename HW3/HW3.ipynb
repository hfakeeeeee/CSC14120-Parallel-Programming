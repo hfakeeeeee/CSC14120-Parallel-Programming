{
  "cells": [
    {
      "cell_type": "markdown",
      "metadata": {
        "id": "eGBgThS8q8k3"
      },
      "source": [
        "Fullname: Nguyễn Quốc Huy\n",
        "\n",
        "Student ID: 20127188"
      ]
    },
    {
      "cell_type": "markdown",
      "metadata": {
        "id": "7qdrvDrCrnqz"
      },
      "source": [
        "# HW3: CUDA Memory"
      ]
    },
    {
      "cell_type": "markdown",
      "metadata": {
        "id": "VKXB0wA7yhq9"
      },
      "source": [
        "**To compile your file, you can use this command:** \\\n",
        "`nvcc filename.cu -o execute_filename` \\\n",
        "***You can use Vietnamese to anwser the questions***"
      ]
    },
    {
      "cell_type": "markdown",
      "metadata": {
        "id": "2xCyT0o8Z7nj"
      },
      "source": [
        "You can add/delete cells as you see fit. Just don't delete the cells with the Teacher's words."
      ]
    },
    {
      "cell_type": "markdown",
      "metadata": {
        "id": "RuitgLSe6PEd"
      },
      "source": [
        "---"
      ]
    },
    {
      "cell_type": "markdown",
      "metadata": {
        "id": "fp3cqym76PEd"
      },
      "source": [
        "Below is the command to install `Nsight system` on Colab. You just need to run the cell."
      ]
    },
    {
      "cell_type": "code",
      "execution_count": null,
      "metadata": {
        "id": "KrjmAfoQ6PEe"
      },
      "outputs": [],
      "source": [
        "# Here is the command to install Nsight system on Colab. You just need to run the cell.\n",
        "!wget https://developer.download.nvidia.com/compute/cuda/repos/ubuntu2204/x86_64/nsight-systems-2023.2.3_2023.2.3.1001-1_amd64.deb\n",
        "!apt update\n",
        "!apt install ./nsight-systems-2023.2.3_2023.2.3.1001-1_amd64.deb\n",
        "!apt --fix-broken install"
      ]
    },
    {
      "cell_type": "markdown",
      "metadata": {
        "id": "KtNnFGQa6PEf"
      },
      "source": [
        "- The above installation will be remove when colab restart its runtime. It should be fine for this homework because we don't use Nsight system that much.\n",
        "- But if you want to persistent install Nsight system, you mount space from your Google Drive to your Colab VM. Read [Here](https://stackoverflow.com/questions/76784746/how-to-use-nsys-in-google-colab) for guidelines how to do thhis."
      ]
    },
    {
      "cell_type": "markdown",
      "metadata": {
        "id": "fh93zc3A6PEg"
      },
      "source": [
        "---"
      ]
    },
    {
      "cell_type": "markdown",
      "metadata": {
        "id": "tbFLx1i4JxIE"
      },
      "source": [
        "## Question 1"
      ]
    },
    {
      "cell_type": "code",
      "execution_count": 27,
      "metadata": {
        "id": "aZNqZuECjNso"
      },
      "outputs": [],
      "source": [
        "!nvcc HW3_P1.cu -o HW3"
      ]
    },
    {
      "cell_type": "code",
      "execution_count": 28,
      "metadata": {
        "id": "NVFUj14OYUyy",
        "colab": {
          "base_uri": "https://localhost:8080/"
        },
        "outputId": "671da6c0-4c70-468a-8094-9d0d6b8013bd"
      },
      "outputs": [
        {
          "output_type": "stream",
          "name": "stdout",
          "text": [
            "**********GPU info**********\n",
            "Name: Tesla T4\n",
            "Compute capability: 7.5\n",
            "Num SMs: 40\n",
            "Max num threads per SM: 1024\n",
            "Max num warps per SM: 32\n",
            "GMEM: 15835398144 bytes\n",
            "CMEM: 65536 bytes\n",
            "L2 cache: 4194304 bytes\n",
            "SMEM / one SM: 65536 bytes\n",
            "****************************\n",
            "\n",
            "Image size (width x height): 512 x 512\n",
            "\n",
            "Kernel 1, block size 16x16, grid size 32x32\n",
            "Kernel time: 0.464544 ms\n",
            "Error: 0.000703\n",
            "\n",
            "Kernel 2, block size 16x16, grid size 32x32\n",
            "Kernel time: 0.305728 ms\n",
            "Error: 0.000703\n",
            "\n",
            "Kernel 3, block size 16x16, grid size 32x32\n",
            "Kernel time: 0.231520 ms\n",
            "Error: 0.000703\n"
          ]
        }
      ],
      "source": [
        "!./HW3 in.pnm out.pnm"
      ]
    },
    {
      "cell_type": "markdown",
      "source": [
        "Trong Kernel 1, thuật toán có thể đọc các pixel đầu vào trực tiếp từ bộ nhớ chung cho mỗi lần tính toán. Thời gian thực hiện tương đối cao hơn vì truy cập bộ nhớ chung có thể chậm hơn so với bộ nhớ dùng chung.\n",
        "\n",
        "Trong Kernel 2, bộ nhớ dùng chung (SMEM) được sử dụng. Bộ nhớ dùng chung nhanh hơn bộ nhớ chung vì nó có độ trễ thấp hơn và băng thông cao hơn. Mỗi khối tải một phần pixel đầu vào vào bộ nhớ dùng chung và các luồng trong khối sau đó có thể truy cập vào bộ nhớ dùng chung này, giảm số lượng truy cập bộ nhớ chung. Việc giảm thời gian truy cập bộ nhớ này dẫn đến giảm thời gian thực hiện.\n",
        "\n",
        "Trong Kernel 3, bộ nhớ cố định (CMEM) được sử dụng cho bộ lọc. Bộ nhớ cố định ở dạng chỉ đọc và được lưu vào bộ nhớ đệm, điều này có thể dẫn đến thời gian truy cập nhanh hơn đối với dữ liệu chỉ đọc như bộ lọc. Vì bộ lọc được lưu trữ trong bộ nhớ không đổi nên mỗi luồng có thể truy cập nó một cách hiệu quả mà không cần phải tải nó vào bộ nhớ dùng chung hoặc tìm nạp lại nó từ bộ nhớ chung nhiều lần. Điều này có thể dẫn đến việc giảm thêm thời gian thực hiện."
      ],
      "metadata": {
        "id": "aQcr7QBk0SCB"
      }
    },
    {
      "cell_type": "markdown",
      "metadata": {
        "id": "XebMjR45-0Io"
      },
      "source": [
        "## Question 2"
      ]
    },
    {
      "cell_type": "code",
      "execution_count": 19,
      "metadata": {
        "id": "gdZN4VlD6PEi"
      },
      "outputs": [],
      "source": [
        "!nvcc HW3_P2.cu -o HW3_P2"
      ]
    },
    {
      "cell_type": "code",
      "source": [
        "!./HW3_P2 512 1"
      ],
      "metadata": {
        "colab": {
          "base_uri": "https://localhost:8080/"
        },
        "id": "4UlH7xePjq8s",
        "outputId": "527f5b35-0cfb-4a3d-d6a8-699abc319914"
      },
      "execution_count": 24,
      "outputs": [
        {
          "output_type": "stream",
          "name": "stdout",
          "text": [
            "n =  16777217\n",
            "\n",
            "GPU name: Tesla T4\n",
            "GPU compute capability: 7.5\n",
            "Processing time of all device streams: 18.425568 ms\n",
            "\n",
            "CORRECT :)\n"
          ]
        }
      ]
    },
    {
      "cell_type": "code",
      "source": [
        " !./HW3_P2 512 3"
      ],
      "metadata": {
        "colab": {
          "base_uri": "https://localhost:8080/"
        },
        "id": "PVXksLDCjum-",
        "outputId": "a42e76db-5b5b-4b38-d055-1671b1a61d61"
      },
      "execution_count": 21,
      "outputs": [
        {
          "output_type": "stream",
          "name": "stdout",
          "text": [
            "n =  16777217\n",
            "\n",
            "GPU name: Tesla T4\n",
            "GPU compute capability: 7.5\n",
            "Processing time of all device streams: 15.111968 ms\n",
            "\n",
            "CORRECT :)\n"
          ]
        }
      ]
    },
    {
      "cell_type": "code",
      "execution_count": 25,
      "metadata": {
        "id": "U4YJISXw6PEi",
        "colab": {
          "base_uri": "https://localhost:8080/"
        },
        "outputId": "79f38ad9-4e46-4883-9f81-6399293387bb"
      },
      "outputs": [
        {
          "output_type": "stream",
          "name": "stdout",
          "text": [
            "n =  16777217\n",
            "\n",
            "GPU name: Tesla T4\n",
            "GPU compute capability: 7.5\n",
            "Processing time of all device streams: 16.841633 ms\n",
            "\n",
            "CORRECT :)\n",
            "Generating '/tmp/nsys-report-1ccf.qdstrm'\n",
            "[1/1] [========================100%] report4.nsys-rep\n",
            "Generated:\n",
            "    /content/report4.nsys-rep\n"
          ]
        }
      ],
      "source": [
        "# Generate report with nsight system\n",
        "!nsys profile ./HW3_P2 512 1"
      ]
    },
    {
      "cell_type": "markdown",
      "source": [
        "![Stream1.png](data:image/png;base64,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)"
      ],
      "metadata": {
        "id": "Jmd0P7Q5oWjv"
      }
    },
    {
      "cell_type": "code",
      "source": [
        "!nsys profile ./HW3_P2 512 3"
      ],
      "metadata": {
        "colab": {
          "base_uri": "https://localhost:8080/"
        },
        "id": "-QMEyOENmxIO",
        "outputId": "c8dfba61-b2c5-4f44-cf0b-2febcfabcf94"
      },
      "execution_count": 26,
      "outputs": [
        {
          "output_type": "stream",
          "name": "stdout",
          "text": [
            "n =  16777217\n",
            "\n",
            "GPU name: Tesla T4\n",
            "GPU compute capability: 7.5\n",
            "Processing time of all device streams: 14.033888 ms\n",
            "\n",
            "CORRECT :)\n",
            "Generating '/tmp/nsys-report-9847.qdstrm'\n",
            "[1/1] [========================100%] report5.nsys-rep\n",
            "Generated:\n",
            "    /content/report5.nsys-rep\n"
          ]
        }
      ]
    },
    {
      "cell_type": "markdown",
      "source": [
        "![Stream3.png](data:image/png;base64,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)"
      ],
      "metadata": {
        "id": "iykS7Uv1ocZM"
      }
    }
  ],
  "metadata": {
    "accelerator": "GPU",
    "colab": {
      "provenance": [],
      "gpuType": "T4"
    },
    "kernelspec": {
      "display_name": "Python 3",
      "name": "python3"
    },
    "language_info": {
      "codemirror_mode": {
        "name": "ipython",
        "version": 3
      },
      "file_extension": ".py",
      "mimetype": "text/x-python",
      "name": "python",
      "nbconvert_exporter": "python",
      "pygments_lexer": "ipython3",
      "version": "3.11.6"
    }
  },
  "nbformat": 4,
  "nbformat_minor": 0
}